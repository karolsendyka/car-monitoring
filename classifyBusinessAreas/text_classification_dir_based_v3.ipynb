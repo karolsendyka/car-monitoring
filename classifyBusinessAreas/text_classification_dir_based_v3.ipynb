{
 "cells": [
  {
   "cell_type": "markdown",
   "metadata": {
    "id": "ItXfxkxvosLH"
   },
   "source": [
    "# Basic text classification"
   ]
  },
  {
   "cell_type": "markdown",
   "metadata": {
    "id": "hKY4XMc9o8iB"
   },
   "source": [
    "<table class=\"tfo-notebook-buttons\" align=\"left\">\n",
    "  <td>\n",
    "    <a target=\"_blank\" href=\"https://www.tensorflow.org/tutorials/keras/text_classification\"><img src=\"https://www.tensorflow.org/images/tf_logo_32px.png\" />View on TensorFlow.org</a>\n",
    "  </td>\n",
    "  <td>\n",
    "    <a target=\"_blank\" href=\"https://colab.research.google.com/github/tensorflow/docs/blob/master/site/en/tutorials/keras/text_classification.ipynb\"><img src=\"https://www.tensorflow.org/images/colab_logo_32px.png\" />Run in Google Colab</a>\n",
    "  </td>\n",
    "  <td>\n",
    "    <a target=\"_blank\" href=\"https://github.com/tensorflow/docs/blob/master/site/en/tutorials/keras/text_classification.ipynb\"><img src=\"https://www.tensorflow.org/images/GitHub-Mark-32px.png\" />View source on GitHub</a>\n",
    "  </td>\n",
    "  <td>\n",
    "    <a href=\"https://storage.googleapis.com/tensorflow_docs/docs/site/en/tutorials/keras/text_classification.ipynb\"><img src=\"https://www.tensorflow.org/images/download_logo_32px.png\" />Download notebook</a>\n",
    "  </td>\n",
    "</table>"
   ]
  },
  {
   "cell_type": "code",
   "execution_count": 37,
   "metadata": {
    "execution": {
     "iopub.execute_input": "2023-01-14T02:27:40.612741Z",
     "iopub.status.busy": "2023-01-14T02:27:40.612545Z",
     "iopub.status.idle": "2023-01-14T02:27:42.890121Z",
     "shell.execute_reply": "2023-01-14T02:27:42.889360Z"
    },
    "id": "8RZOuS9LWQvv"
   },
   "outputs": [],
   "source": [
    "import matplotlib.pyplot as plt\n",
    "import os\n",
    "import re\n",
    "import shutil\n",
    "import string\n",
    "import tensorflow as tf\n",
    "\n",
    "from tensorflow.keras import layers\n",
    "from tensorflow.keras import losses\n"
   ]
  },
  {
   "cell_type": "code",
   "execution_count": 38,
   "metadata": {
    "execution": {
     "iopub.execute_input": "2023-01-14T02:27:42.894408Z",
     "iopub.status.busy": "2023-01-14T02:27:42.894001Z",
     "iopub.status.idle": "2023-01-14T02:27:42.897866Z",
     "shell.execute_reply": "2023-01-14T02:27:42.897154Z"
    },
    "id": "6-tTFS04dChr"
   },
   "outputs": [
    {
     "name": "stdout",
     "output_type": "stream",
     "text": [
      "2.9.1\n"
     ]
    }
   ],
   "source": [
    "print(tf.__version__)"
   ]
  },
  {
   "cell_type": "markdown",
   "metadata": {
    "id": "iAsKG535pHep"
   },
   "source": [
    "### Download and explore the IMDB dataset\n",
    "\n",
    "Let's download and extract the dataset, then explore the directory structure."
   ]
  },
  {
   "cell_type": "code",
   "execution_count": 39,
   "metadata": {
    "execution": {
     "iopub.execute_input": "2023-01-14T02:27:42.901256Z",
     "iopub.status.busy": "2023-01-14T02:27:42.901043Z",
     "iopub.status.idle": "2023-01-14T02:27:57.729475Z",
     "shell.execute_reply": "2023-01-14T02:27:57.728611Z"
    },
    "id": "k7ZYnuajVlFN"
   },
   "outputs": [],
   "source": [
    "fullPath = os.path.abspath(\"./data\" )\n",
    "dataset = tf.keras.utils.get_file(None, fullPath, cache_dir='.',\n",
    "                                    cache_subdir='')\n",
    "\n",
    "dataset_dir = os.path.dirname(dataset)"
   ]
  },
  {
   "cell_type": "code",
   "execution_count": 40,
   "metadata": {
    "execution": {
     "iopub.execute_input": "2023-01-14T02:27:57.733539Z",
     "iopub.status.busy": "2023-01-14T02:27:57.733276Z",
     "iopub.status.idle": "2023-01-14T02:27:57.739530Z",
     "shell.execute_reply": "2023-01-14T02:27:57.738897Z"
    },
    "id": "355CfOvsV1pl"
   },
   "outputs": [
    {
     "data": {
      "text/plain": "['training-data.csv.bak',\n 'new.ipynb',\n 'text_classification_original.ipynb',\n 'aclImdb',\n 'README.MD',\n 'aclImdb_v1.tar.gz',\n 'AllDetails.csv',\n 'text_classification.ipynb',\n 'text_classification_dir_based_v3.ipynb',\n '.ipynb_checkpoints',\n 'verification.csv',\n 'training-data.csv',\n 'data',\n 'convert-csv-to-dirstructure.py']"
     },
     "execution_count": 40,
     "metadata": {},
     "output_type": "execute_result"
    }
   ],
   "source": [
    "os.listdir(dataset_dir)"
   ]
  },
  {
   "cell_type": "code",
   "execution_count": 41,
   "metadata": {
    "execution": {
     "iopub.execute_input": "2023-01-14T02:27:57.742942Z",
     "iopub.status.busy": "2023-01-14T02:27:57.742349Z",
     "iopub.status.idle": "2023-01-14T02:27:57.746881Z",
     "shell.execute_reply": "2023-01-14T02:27:57.746329Z"
    },
    "id": "7ASND15oXpF1"
   },
   "outputs": [
    {
     "data": {
      "text/plain": "['AddCandidates',\n 'API-Candidates',\n 'One-ClickApply',\n 'Interviews-Scheduling',\n 'JobAdsAPI',\n 'JobListPage',\n 'Reporting',\n 'JobAlerts',\n 'MobileFieldRecruitingApps-(iOS&Android)',\n 'APIWebhooks-Jobs&Positions',\n 'PartnerPortal',\n 'Tasks',\n 'CandidatesAttachments',\n 'APIWebhooks-ScreeningQuestions',\n 'Inbox',\n 'DocuSign',\n 'Notifications-Email',\n 'Tableau',\n 'UserManagement',\n 'RejectCandidate',\n 'Silkroad',\n 'ScreeningQuestions',\n 'API-Users',\n 'API-Authentication',\n 'CareerSite',\n 'Publisher',\n 'SocialMediaShare',\n 'Passwordrecoveryemails-Users',\n 'SearchingandFilteringCandidates',\n 'SmartRProfile',\n 'JobPal',\n 'Referrals',\n 'Users&Roles-Permissions',\n 'DeferCandidate',\n 'API-Analytics',\n 'LoginPage',\n 'CandidateStatuses',\n 'Website',\n 'CRM',\n 'API-Marketplace',\n 'Mobster-MobileAPI',\n 'GoogleTagManager',\n 'CandidateOffers',\n 'SmartPal',\n 'SmartRDashboard',\n 'JobPostingWizard',\n 'API-Approvals',\n 'SmartRApply',\n 'EmailTemplates',\n 'API-Offers',\n 'AssessmentsV1',\n 'HiringProcess-config',\n 'APIWebhooks-Candidates&Applications',\n 'API-Jobs',\n 'CalendarIntegration',\n 'API-Configuration',\n 'CandidateProfileInfo',\n 'Tags',\n 'SmartRWebsite',\n 'CandidateMerge',\n 'PositionsManagement',\n 'APIWebhooks',\n 'NewHirePortal',\n 'Approvals-Offers',\n 'GlobalCompliance&GDPR',\n 'Approvals-Jobs',\n 'LinkedInApplyConnect',\n 'CandidateForms',\n 'SessionManagement',\n 'Hireloop',\n 'JobPostingWizard-Edit',\n 'CandidateHiring',\n 'CustomSources',\n 'ApplicantList-PeopleListonJobPage',\n 'PeoplePage',\n 'CompanyCreation',\n 'JobWidget',\n 'LinkedInRecruiterSystemConnect',\n 'Job&OrgFields',\n 'CandidateConsents',\n 'SandboxReplication',\n 'PostingsOrders&Credits',\n 'API-AIServices',\n 'CustomConsentRequest',\n 'API-Reporting',\n 'Sources',\n 'API-CandidatesSearch',\n 'Advertisement',\n 'API-Application',\n 'API-Messages',\n 'OfferTemplates',\n 'Unknown',\n 'CandidateFields',\n 'WorkflowsAutomation',\n 'DeveloperPortal',\n 'SmartRUI',\n 'WebSSO',\n 'JobDetailsPage',\n 'TaskManagement',\n 'JobDistribution',\n 'SmartAssistant',\n 'Scorecard',\n 'SRAdmin',\n 'AssessmentsV2',\n 'InternalMobility',\n 'Onboarding',\n 'EmployeePortal',\n 'Messages&Emails',\n 'Analytics',\n 'CompanyAPI',\n 'JobDetails',\n 'Reviews',\n 'JobAdApp',\n 'API-Postings',\n 'MobileHiringApps-(iOS&Android)']"
     },
     "execution_count": 41,
     "metadata": {},
     "output_type": "execute_result"
    }
   ],
   "source": [
    "train_dir = os.path.join(dataset_dir, 'data/train')\n",
    "os.listdir(train_dir)"
   ]
  },
  {
   "cell_type": "markdown",
   "metadata": {
    "id": "ysMNMI1CWDFD"
   },
   "source": [
    "The `aclImdb/train/pos` and `aclImdb/train/neg` directories contain many text files, each of which is a single movie review. Let's take a look at one of them."
   ]
  },
  {
   "cell_type": "code",
   "execution_count": 42,
   "metadata": {
    "execution": {
     "iopub.execute_input": "2023-01-14T02:27:57.750160Z",
     "iopub.status.busy": "2023-01-14T02:27:57.749906Z",
     "iopub.status.idle": "2023-01-14T02:27:57.753984Z",
     "shell.execute_reply": "2023-01-14T02:27:57.753369Z"
    },
    "id": "R7g8hFvzWLIZ"
   },
   "outputs": [
    {
     "name": "stdout",
     "output_type": "stream",
     "text": [
      "\n",
      "*Where:*\n",
      "In PROD\n",
      "Company Name: Ent Credit Union\n",
      "companyId (legacy): 148844567\n",
      "companyId: 6151f3102831656907665feb\n",
      "Integration: MSFT Calendar Integration\n",
      "*What:*\n",
      "See attached screen shots. In shot number 1, you can see that our recruiter has selected to view someone's schedule and availability is displaying. In shot number 2, you can see that when she selects a meeting room, the availability info for the manager goes away.\n",
      "*Steps Taken to Replicate:*\n",
      "1. Log in to the customer's account through SR admin\n",
      "2. Refer to the the candidate profile and schedule an Interview\n",
      "3. Select the user's schedule.\n",
      "4. Choose the meeting room\n",
      "5. The availability of the user's selected is wiped off.\n",
      "\n",
      "Browser: Google Chrome\n",
      "Version: Version 108.0.5359.94 (Official Build) (arm64)\n",
      "Reason for Priority: P3\n",
      "Date and Time Issue Occurred: 17.00 CEST\n",
      "\n"
     ]
    }
   ],
   "source": [
    "sample_file = os.path.join(train_dir, 'Interviews-Scheduling/1.txt')\n",
    "with open(sample_file) as f:\n",
    "  print(f.read())"
   ]
  },
  {
   "cell_type": "markdown",
   "metadata": {
    "id": "Mk20TEm6ZRFP"
   },
   "source": [
    "### Load the dataset\n",
    "\n",
    "Next, you will load the data off disk and prepare it into a format suitable for training. To do so, you will use the helpful [text_dataset_from_directory](https://www.tensorflow.org/api_docs/python/tf/keras/preprocessing/text_dataset_from_directory) utility, which expects a directory structure as follows.\n",
    "\n",
    "```\n",
    "main_directory/\n",
    "...class_a/\n",
    "......a_text_1.txt\n",
    "......a_text_2.txt\n",
    "...class_b/\n",
    "......b_text_1.txt\n",
    "......b_text_2.txt\n",
    "```"
   ]
  },
  {
   "cell_type": "markdown",
   "metadata": {
    "id": "95kkUdRoaeMw"
   },
   "source": [
    "Next, you will use the `text_dataset_from_directory` utility to create a labeled `tf.data.Dataset`. [tf.data](https://www.tensorflow.org/guide/data) is a powerful collection of tools for working with data.\n",
    "\n",
    "When running a machine learning experiment, it is a best practice to divide your dataset into three splits: [train](https://developers.google.com/machine-learning/glossary#training_set), [validation](https://developers.google.com/machine-learning/glossary#validation_set), and [test](https://developers.google.com/machine-learning/glossary#test-set).\n",
    "\n",
    "The IMDB dataset has already been divided into train and test, but it lacks a validation set. Let's create a validation set using an 80:20 split of the training data by using the `validation_split` argument below."
   ]
  },
  {
   "cell_type": "code",
   "execution_count": 43,
   "metadata": {
    "execution": {
     "iopub.execute_input": "2023-01-14T02:27:58.602307Z",
     "iopub.status.busy": "2023-01-14T02:27:58.601630Z",
     "iopub.status.idle": "2023-01-14T02:28:03.136436Z",
     "shell.execute_reply": "2023-01-14T02:28:03.135603Z"
    },
    "id": "nOrK-MTYaw3C"
   },
   "outputs": [
    {
     "name": "stdout",
     "output_type": "stream",
     "text": [
      "Found 974 files belonging to 115 classes.\n",
      "Using 780 files for training.\n"
     ]
    }
   ],
   "source": [
    "batch_size = 32\n",
    "seed = 42\n",
    "\n",
    "raw_train_ds = tf.keras.utils.text_dataset_from_directory(\n",
    "    'data/train',\n",
    "    batch_size=batch_size,\n",
    "    validation_split=0.2,\n",
    "    subset='training',\n",
    "    seed=seed)"
   ]
  },
  {
   "cell_type": "markdown",
   "metadata": {
    "id": "5Y33oxOUpYkh"
   },
   "source": [
    "As you can see above, there are 25,000 examples in the training folder, of which you will use 80% (or 20,000) for training. As you will see in a moment, you can train a model by passing a dataset directly to `model.fit`. If you're new to `tf.data`, you can also iterate over the dataset and print out a few examples as follows."
   ]
  },
  {
   "cell_type": "code",
   "execution_count": 44,
   "metadata": {
    "execution": {
     "iopub.execute_input": "2023-01-14T02:28:03.140618Z",
     "iopub.status.busy": "2023-01-14T02:28:03.139995Z",
     "iopub.status.idle": "2023-01-14T02:28:03.167876Z",
     "shell.execute_reply": "2023-01-14T02:28:03.167155Z"
    },
    "id": "51wNaPPApk1K"
   },
   "outputs": [
    {
     "name": "stdout",
     "output_type": "stream",
     "text": [
      "Review b'\\n*+Where+:*\\r\\nIn PROD\\r\\nCompany Name:\\xc2\\xa0PublicisGroupe\\r\\ncompanyId (legacy): 111488791\\r\\ncompanyId: 58822766e4b0680b1154ae69\\r\\n\\r\\n*+What+:*\\xc2\\xa0Cannot upload a gif to templates because of 504 error occurring\\r\\n\\r\\n*+Steps Taken to Replicate+:*\\xc2\\xa0\\r\\n\\r\\n1. Signed in to\\xc2\\xa0PublicisGroupe as SR Support\\r\\n2.\\xc2\\xa0Clicked on Email Templates\\r\\n3. Went to template named \"UK - CPI - Prodigious - General Signature\"\\r\\n4.\\xc2\\xa0Deleted old branding and tried to add gif\\r\\n5. Received error\\r\\n\\r\\n\\xc2\\xa0\\r\\n\\r\\n*Ray ID:*\\xc2\\xa077265936a1d8bf24\\r\\n\\r\\n*+Date and Time Issue Occurred+:*\\xc2\\xa0Replicated November 30, 2022 21:35 CET\\r\\n\\r\\n*+User Expected Behavior+:*\\xc2\\xa0Users should be able to upload gifs without encountering 504 errors\\r\\n\\r\\n*+Reason for Priority:+*\\xc2\\xa0 It is impacting the customer from having a better experience with images in email templates'\n",
      "Label 109\n",
      "Review b'\\n*Where:*\\r\\n\\r\\nIn PROD\\r\\n\\r\\nCompany Name: LinkedIn\\r\\n\\r\\nCompany ID:\\xc2\\xa0129080599\\r\\n\\r\\n\\xc2\\xa0\\r\\n\\r\\n*What:*\\r\\n\\r\\nLinkedIn got a case missing a candidate record in application delta extract file on 29/10. Upon investigating, the candidate \"Noa Umansky\" whose status is Hired for the job REF13387E in SR on 29/10. LinkedIn checked DWH, they received application delta extract file on 29/10 with file size 0KB.\\r\\n\\r\\n\\xc2\\xa0\\r\\n\\r\\nReport:\\xc2\\xa0*1 - LI_DB_Application_Extract (DELTA - Application Last Updated Date*)\\r\\n\\r\\nCan you please look into why the report was created empty and provide an RCA?'\n",
      "Label 13\n",
      "Review b'\\n*+Where+:*\\r\\nIn PROD\\r\\nCompany Name:\\xc2\\xa0Sam Hannaway Demo\\r\\ncompanyId (legacy): 152547095\\r\\ncompanyId: 61d48149b5958829cadc67ad\\r\\n\\r\\n*+What+:*\\xc2\\xa0When using the latest version of the Field Recruiting App, changing Brands does not pull in the logo associated. The logo remains as the default.\\xc2\\xa0\\r\\n\\r\\n*+Steps Taken to Replicate+:*\\xc2\\xa0\\r\\n*Version:* 2.1.2\\r\\n # Opened the Field Recruiting App and signed in to Flawer (126917399) as Sara Admin (s.nelson+admin@smartrecruiters.com)\\xc2\\xa0\\r\\n # Selected the gear icon to change Brand from \"Flawer\" to \"Chaos.\".\\xc2\\xa0\\r\\n # Observed the logo remain as Flawer\\'s instead of updating to Chaos.\\'s.\\r\\n\\r\\n*+Reason for Priority+:*\\xc2\\xa0P2 - Brand Logo is incorrect.\\r\\n\\r\\n*+Date and Time Issue Occurred+:*\\xc2\\xa0August 22nd 2022 16:30 PDT\\r\\n\\r\\n*+Account Integrations+:*\\xc2\\xa0None\\r\\n\\r\\n*+User Expected Behavior+:*\\xc2\\xa0Brand logo to update when Brand is changed.\\xc2\\xa0\\r\\n\\r\\n*+Samples+:*\\r\\n [https://drive.google.com/file/d/1XkYgSch9qsdEA2gXXFFIg6DyISz8IxyA/view?usp=sharing]\\xc2\\xa0- Video shows the steps. Over 15mb so it\\'s on Google Drive.\\xc2\\xa0\\r\\nScreen Shot 2022-08-22 at 4.36.43 PM.png - Brands on Flawer. Logos have not been changed in the last 30 days.\\xc2\\xa0'\n",
      "Label 71\n"
     ]
    }
   ],
   "source": [
    "for text_batch, label_batch in raw_train_ds.take(1):\n",
    "  for i in range(3):\n",
    "    print(\"Review\", text_batch.numpy()[i])\n",
    "    print(\"Label\", label_batch.numpy()[i])"
   ]
  },
  {
   "cell_type": "markdown",
   "metadata": {
    "id": "JWq1SUIrp1a-"
   },
   "source": [
    "Notice the reviews contain raw text (with punctuation and occasional HTML tags like `<br/>`). You will show how to handle these in the following section.\n",
    "\n",
    "The labels are 0 or 1. To see which of these correspond to positive and negative movie reviews, you can check the `class_names` property on the dataset.\n"
   ]
  },
  {
   "cell_type": "code",
   "execution_count": 45,
   "metadata": {
    "execution": {
     "iopub.execute_input": "2023-01-14T02:28:03.171540Z",
     "iopub.status.busy": "2023-01-14T02:28:03.170964Z",
     "iopub.status.idle": "2023-01-14T02:28:03.174697Z",
     "shell.execute_reply": "2023-01-14T02:28:03.174103Z"
    },
    "id": "MlICTG8spyO2"
   },
   "outputs": [
    {
     "name": "stdout",
     "output_type": "stream",
     "text": [
      "Label 0 corresponds to API-AIServices\n",
      "Label 1 corresponds to API-Analytics\n"
     ]
    }
   ],
   "source": [
    "print(\"Label 0 corresponds to\", raw_train_ds.class_names[0])\n",
    "print(\"Label 1 corresponds to\", raw_train_ds.class_names[1])"
   ]
  },
  {
   "cell_type": "markdown",
   "metadata": {
    "id": "pbdO39vYqdJr"
   },
   "source": [
    "Next, you will create a validation and test dataset. You will use the remaining 5,000 reviews from the training set for validation."
   ]
  },
  {
   "cell_type": "markdown",
   "metadata": {
    "id": "SzxazN8Hq1pF"
   },
   "source": [
    "Note:  When using the `validation_split` and `subset` arguments, make sure to either specify a random seed, or to pass `shuffle=False`, so that the validation and training splits have no overlap."
   ]
  },
  {
   "cell_type": "code",
   "execution_count": 46,
   "metadata": {
    "execution": {
     "iopub.execute_input": "2023-01-14T02:28:03.178238Z",
     "iopub.status.busy": "2023-01-14T02:28:03.177733Z",
     "iopub.status.idle": "2023-01-14T02:28:04.311139Z",
     "shell.execute_reply": "2023-01-14T02:28:04.310456Z"
    },
    "id": "JsMwwhOoqjKF"
   },
   "outputs": [
    {
     "name": "stdout",
     "output_type": "stream",
     "text": [
      "Found 974 files belonging to 115 classes.\n",
      "Using 194 files for validation.\n"
     ]
    }
   ],
   "source": [
    "raw_val_ds = tf.keras.utils.text_dataset_from_directory(\n",
    "    'data/train',\n",
    "    batch_size=batch_size,\n",
    "    validation_split=0.2,\n",
    "    subset='validation',\n",
    "    seed=seed)"
   ]
  },
  {
   "cell_type": "code",
   "execution_count": 47,
   "metadata": {
    "execution": {
     "iopub.execute_input": "2023-01-14T02:28:04.314753Z",
     "iopub.status.busy": "2023-01-14T02:28:04.314181Z",
     "iopub.status.idle": "2023-01-14T02:28:05.453831Z",
     "shell.execute_reply": "2023-01-14T02:28:05.453132Z"
    },
    "id": "rdSr0Nt3q_ns"
   },
   "outputs": [
    {
     "name": "stdout",
     "output_type": "stream",
     "text": [
      "Found 314 files belonging to 80 classes.\n"
     ]
    }
   ],
   "source": [
    "raw_test_ds = tf.keras.utils.text_dataset_from_directory(\n",
    "    'data/validation',\n",
    "    batch_size=batch_size)"
   ]
  },
  {
   "cell_type": "markdown",
   "metadata": {
    "id": "qJmTiO0IYAjm"
   },
   "source": [
    "### Prepare the dataset for training\n",
    "\n",
    "Next, you will standardize, tokenize, and vectorize the data using the helpful `tf.keras.layers.TextVectorization` layer.\n",
    "\n",
    "Standardization refers to preprocessing the text, typically to remove punctuation or HTML elements to simplify the dataset. Tokenization refers to splitting strings into tokens (for example, splitting a sentence into individual words, by splitting on whitespace). Vectorization refers to converting tokens into numbers so they can be fed into a neural network. All of these tasks can be accomplished with this layer.\n",
    "\n",
    "As you saw above, the reviews contain various HTML tags like `<br />`. These tags will not be removed by the default standardizer in the `TextVectorization` layer (which converts text to lowercase and strips punctuation by default, but doesn't strip HTML). You will write a custom standardization function to remove the HTML."
   ]
  },
  {
   "cell_type": "markdown",
   "metadata": {
    "id": "ZVcHl-SLrH-u"
   },
   "source": [
    "Note: To prevent [training-testing skew](https://developers.google.com/machine-learning/guides/rules-of-ml#training-serving_skew) (also known as training-serving skew), it is important to preprocess the data identically at train and test time. To facilitate this, the `TextVectorization` layer can be included directly inside your model, as shown later in this tutorial."
   ]
  },
  {
   "cell_type": "code",
   "execution_count": 48,
   "metadata": {
    "execution": {
     "iopub.execute_input": "2023-01-14T02:28:05.457879Z",
     "iopub.status.busy": "2023-01-14T02:28:05.457381Z",
     "iopub.status.idle": "2023-01-14T02:28:05.461589Z",
     "shell.execute_reply": "2023-01-14T02:28:05.460716Z"
    },
    "id": "SDRI_s_tX1Hk"
   },
   "outputs": [],
   "source": [
    "def custom_standardization(input_data):\n",
    "  lowercase = tf.strings.lower(input_data)\n",
    "  stripped_html = tf.strings.regex_replace(lowercase, '<br />', ' ')\n",
    "  return tf.strings.regex_replace(stripped_html,\n",
    "                                  '[%s]' % re.escape(string.punctuation),\n",
    "                                  '')"
   ]
  },
  {
   "cell_type": "markdown",
   "metadata": {
    "id": "d2d3Aw8dsUux"
   },
   "source": [
    "Next, you will create a `TextVectorization` layer. You will use this layer to standardize, tokenize, and vectorize our data. You set the `output_mode` to `int` to create unique integer indices for each token.\n",
    "\n",
    "Note that you're using the default split function, and the custom standardization function you defined above. You'll also define some constants for the model, like an explicit maximum `sequence_length`, which will cause the layer to pad or truncate sequences to exactly `sequence_length` values."
   ]
  },
  {
   "cell_type": "code",
   "execution_count": 49,
   "metadata": {
    "execution": {
     "iopub.execute_input": "2023-01-14T02:28:05.465134Z",
     "iopub.status.busy": "2023-01-14T02:28:05.464692Z",
     "iopub.status.idle": "2023-01-14T02:28:05.477124Z",
     "shell.execute_reply": "2023-01-14T02:28:05.476443Z"
    },
    "id": "-c76RvSzsMnX"
   },
   "outputs": [],
   "source": [
    "max_features = 10000\n",
    "sequence_length = 250\n",
    "\n",
    "vectorize_layer = layers.TextVectorization(\n",
    "    standardize=custom_standardization,\n",
    "    max_tokens=max_features,\n",
    "    output_mode='int',\n",
    "    output_sequence_length=sequence_length)"
   ]
  },
  {
   "cell_type": "markdown",
   "metadata": {
    "id": "vlFOpfF6scT6"
   },
   "source": [
    "Next, you will call `adapt` to fit the state of the preprocessing layer to the dataset. This will cause the model to build an index of strings to integers."
   ]
  },
  {
   "cell_type": "markdown",
   "metadata": {
    "id": "lAhdjK7AtroA"
   },
   "source": [
    "Note: It's important to only use your training data when calling adapt (using the test set would leak information)."
   ]
  },
  {
   "cell_type": "code",
   "execution_count": 50,
   "metadata": {
    "execution": {
     "iopub.execute_input": "2023-01-14T02:28:05.480591Z",
     "iopub.status.busy": "2023-01-14T02:28:05.480116Z",
     "iopub.status.idle": "2023-01-14T02:28:07.658124Z",
     "shell.execute_reply": "2023-01-14T02:28:07.657335Z"
    },
    "id": "GH4_2ZGJsa_X"
   },
   "outputs": [],
   "source": [
    "# Make a text-only dataset (without labels), then call adapt\n",
    "train_text = raw_train_ds.map(lambda x, y: x)\n",
    "vectorize_layer.adapt(train_text)"
   ]
  },
  {
   "cell_type": "markdown",
   "metadata": {
    "id": "SHQVEFzNt-K_"
   },
   "source": [
    "Let's create a function to see the result of using this layer to preprocess some data."
   ]
  },
  {
   "cell_type": "code",
   "execution_count": 51,
   "metadata": {
    "execution": {
     "iopub.execute_input": "2023-01-14T02:28:07.662874Z",
     "iopub.status.busy": "2023-01-14T02:28:07.662270Z",
     "iopub.status.idle": "2023-01-14T02:28:07.666069Z",
     "shell.execute_reply": "2023-01-14T02:28:07.665438Z"
    },
    "id": "SCIg_T50wOCU"
   },
   "outputs": [],
   "source": [
    "def vectorize_text(text, label):\n",
    "  text = tf.expand_dims(text, -1)\n",
    "  return vectorize_layer(text), label"
   ]
  },
  {
   "cell_type": "code",
   "execution_count": 52,
   "metadata": {
    "execution": {
     "iopub.execute_input": "2023-01-14T02:28:07.669233Z",
     "iopub.status.busy": "2023-01-14T02:28:07.668754Z",
     "iopub.status.idle": "2023-01-14T02:28:07.725842Z",
     "shell.execute_reply": "2023-01-14T02:28:07.725206Z"
    },
    "id": "XULcm6B3xQIO"
   },
   "outputs": [
    {
     "name": "stdout",
     "output_type": "stream",
     "text": [
      "Review tf.Tensor(b\"\\nWhere: In Prod\\r\\nCompany Name: Sam Hannaway Demo\\r\\ncompanyId (legacy): 152547095\\r\\ncompanyId: 61d48149b5958829cadc67ad\\r\\n \\r\\nWhat: Alert appearing on page load randomly throughout system\\r\\n \\r\\nSteps Taken to Replicate:\\r\\n1. Login to FromKrakowToMars with the user account Jeremy Admin\\r\\n2. Navigate through the platform, this alert message flashes up randomly while loading pages.\\r\\n3. The pages are loading correctly.\\r\\n\\r\\nBrowser: Chrome Version 103.0.5060.114 (Official Build) (arm64)\\r\\n\\r\\nReason for Priority: P3 - usability not impacted \\r\\n\\r\\nDate and Time Issue Occurred: July 12 2022\\r\\n\\r\\nUser Expected Behavior: Alert shouldn't be appearing for no reason.\\r\\n\\r\\nSample: screenshot of the alert message.\\r\\n\\r\\nNote: tried to replicate on Mozilla, didn't see this alert.\\r\\nReported by the sales team who is seeing this alert while presenting demo to customers.\", shape=(), dtype=string)\n",
      "Label Unknown\n",
      "Vectorized review (<tf.Tensor: shape=(1, 250), dtype=int64, numpy=\n",
      "array([[  32,    4,   36,   17,   28, 1041, 1392,  602,   12,   29, 1877,\n",
      "          12, 2584,   49, 1285,  537,   14,   62,  424, 1510, 2707,  105,\n",
      "          39,   44,    3,   67,   42,  339,    3, 2081,   25,    2,   11,\n",
      "          31, 2423,  150,   52,  567,  140,    2,  383,   21, 1285,   83,\n",
      "        9888,  157, 1510,  180,  552,  831,   66,    2,  831,   22,  552,\n",
      "         185,   70,   69,   65, 2625,  124,  121,  146,   35,   10,   75,\n",
      "         527,  744,   15,  491,   30,    5,   26,   18,   78,  836,  518,\n",
      "          53,   11,   34,   76, 1285,  819,   23,  537,   10,   61,   35,\n",
      "         778,   64,   13,    2, 1285,   83,  326,  161,    3,   67,   14,\n",
      "        4113,  732,   77,   21, 1285,  241,   68,    2, 1961,  141,  315,\n",
      "           6,  589,   21, 1285,  180, 2844,  602,    3,  303,    0,    0,\n",
      "           0,    0,    0,    0,    0,    0,    0,    0,    0,    0,    0,\n",
      "           0,    0,    0,    0,    0,    0,    0,    0,    0,    0,    0,\n",
      "           0,    0,    0,    0,    0,    0,    0,    0,    0,    0,    0,\n",
      "           0,    0,    0,    0,    0,    0,    0,    0,    0,    0,    0,\n",
      "           0,    0,    0,    0,    0,    0,    0,    0,    0,    0,    0,\n",
      "           0,    0,    0,    0,    0,    0,    0,    0,    0,    0,    0,\n",
      "           0,    0,    0,    0,    0,    0,    0,    0,    0,    0,    0,\n",
      "           0,    0,    0,    0,    0,    0,    0,    0,    0,    0,    0,\n",
      "           0,    0,    0,    0,    0,    0,    0,    0,    0,    0,    0,\n",
      "           0,    0,    0,    0,    0,    0,    0,    0,    0,    0,    0,\n",
      "           0,    0,    0,    0,    0,    0,    0,    0,    0,    0,    0,\n",
      "           0,    0,    0,    0,    0,    0,    0,    0]])>, <tf.Tensor: shape=(), dtype=int32, numpy=109>)\n"
     ]
    }
   ],
   "source": [
    "# retrieve a batch (of 32 reviews and labels) from the dataset\n",
    "text_batch, label_batch = next(iter(raw_train_ds))\n",
    "first_review, first_label = text_batch[0], label_batch[0]\n",
    "print(\"Review\", first_review)\n",
    "print(\"Label\", raw_train_ds.class_names[first_label])\n",
    "print(\"Vectorized review\", vectorize_text(first_review, first_label))"
   ]
  },
  {
   "cell_type": "markdown",
   "metadata": {
    "id": "6u5EX0hxyNZT"
   },
   "source": [
    "As you can see above, each token has been replaced by an integer. You can lookup the token (string) that each integer corresponds to by calling `.get_vocabulary()` on the layer."
   ]
  },
  {
   "cell_type": "code",
   "execution_count": 53,
   "metadata": {
    "execution": {
     "iopub.execute_input": "2023-01-14T02:28:07.729121Z",
     "iopub.status.busy": "2023-01-14T02:28:07.728857Z",
     "iopub.status.idle": "2023-01-14T02:28:07.771832Z",
     "shell.execute_reply": "2023-01-14T02:28:07.771262Z"
    },
    "id": "kRq9hTQzhVhW"
   },
   "outputs": [
    {
     "name": "stdout",
     "output_type": "stream",
     "text": [
      "1287 --->  acceptlanguage\n",
      " 313 --->  know\n",
      "Vocabulary size: 10000\n"
     ]
    }
   ],
   "source": [
    "print(\"1287 ---> \",vectorize_layer.get_vocabulary()[1287])\n",
    "print(\" 313 ---> \",vectorize_layer.get_vocabulary()[313])\n",
    "print('Vocabulary size: {}'.format(len(vectorize_layer.get_vocabulary())))"
   ]
  },
  {
   "cell_type": "markdown",
   "metadata": {
    "id": "XD2H6utRydGv"
   },
   "source": [
    "You are nearly ready to train your model. As a final preprocessing step, you will apply the TextVectorization layer you created earlier to the train, validation, and test dataset."
   ]
  },
  {
   "cell_type": "code",
   "execution_count": 54,
   "metadata": {
    "execution": {
     "iopub.execute_input": "2023-01-14T02:28:07.775349Z",
     "iopub.status.busy": "2023-01-14T02:28:07.774960Z",
     "iopub.status.idle": "2023-01-14T02:28:07.899944Z",
     "shell.execute_reply": "2023-01-14T02:28:07.899264Z"
    },
    "id": "2zhmpeViI1iG"
   },
   "outputs": [],
   "source": [
    "train_ds = raw_train_ds.map(vectorize_text)\n",
    "val_ds = raw_val_ds.map(vectorize_text)\n",
    "test_ds = raw_test_ds.map(vectorize_text)"
   ]
  },
  {
   "cell_type": "markdown",
   "metadata": {
    "id": "YsVQyPMizjuO"
   },
   "source": [
    "### Configure the dataset for performance\n",
    "\n",
    "These are two important methods you should use when loading data to make sure that I/O does not become blocking.\n",
    "\n",
    "`.cache()` keeps data in memory after it's loaded off disk. This will ensure the dataset does not become a bottleneck while training your model. If your dataset is too large to fit into memory, you can also use this method to create a performant on-disk cache, which is more efficient to read than many small files.\n",
    "\n",
    "`.prefetch()` overlaps data preprocessing and model execution while training.\n",
    "\n",
    "You can learn more about both methods, as well as how to cache data to disk in the [data performance guide](https://www.tensorflow.org/guide/data_performance)."
   ]
  },
  {
   "cell_type": "code",
   "execution_count": 55,
   "metadata": {
    "execution": {
     "iopub.execute_input": "2023-01-14T02:28:07.903275Z",
     "iopub.status.busy": "2023-01-14T02:28:07.903058Z",
     "iopub.status.idle": "2023-01-14T02:28:07.910179Z",
     "shell.execute_reply": "2023-01-14T02:28:07.909503Z"
    },
    "id": "wMcs_H7izm5m"
   },
   "outputs": [],
   "source": [
    "AUTOTUNE = tf.data.AUTOTUNE\n",
    "\n",
    "train_ds = train_ds.cache().prefetch(buffer_size=AUTOTUNE)\n",
    "val_ds = val_ds.cache().prefetch(buffer_size=AUTOTUNE)\n",
    "test_ds = test_ds.cache().prefetch(buffer_size=AUTOTUNE)"
   ]
  },
  {
   "cell_type": "markdown",
   "metadata": {
    "id": "LLC02j2g-llC"
   },
   "source": [
    "### Create the model\n",
    "\n",
    "It's time to create your neural network:"
   ]
  },
  {
   "cell_type": "code",
   "execution_count": 56,
   "metadata": {
    "execution": {
     "iopub.execute_input": "2023-01-14T02:28:07.913519Z",
     "iopub.status.busy": "2023-01-14T02:28:07.913066Z",
     "iopub.status.idle": "2023-01-14T02:28:07.915832Z",
     "shell.execute_reply": "2023-01-14T02:28:07.915306Z"
    },
    "id": "dkQP6in8yUBR"
   },
   "outputs": [],
   "source": [
    "embedding_dim = 16"
   ]
  },
  {
   "cell_type": "code",
   "execution_count": 57,
   "metadata": {
    "execution": {
     "iopub.execute_input": "2023-01-14T02:28:07.918933Z",
     "iopub.status.busy": "2023-01-14T02:28:07.918459Z",
     "iopub.status.idle": "2023-01-14T02:28:07.972921Z",
     "shell.execute_reply": "2023-01-14T02:28:07.972358Z"
    },
    "id": "xpKOoWgu-llD"
   },
   "outputs": [
    {
     "name": "stdout",
     "output_type": "stream",
     "text": [
      "Model: \"sequential_1\"\n",
      "_________________________________________________________________\n",
      " Layer (type)                Output Shape              Param #   \n",
      "=================================================================\n",
      " embedding_1 (Embedding)     (None, None, 16)          160016    \n",
      "                                                                 \n",
      " dropout_2 (Dropout)         (None, None, 16)          0         \n",
      "                                                                 \n",
      " global_average_pooling1d_1   (None, 16)               0         \n",
      " (GlobalAveragePooling1D)                                        \n",
      "                                                                 \n",
      " dropout_3 (Dropout)         (None, 16)                0         \n",
      "                                                                 \n",
      " dense_1 (Dense)             (None, 115)               1955      \n",
      "                                                                 \n",
      "=================================================================\n",
      "Total params: 161,971\n",
      "Trainable params: 161,971\n",
      "Non-trainable params: 0\n",
      "_________________________________________________________________\n"
     ]
    }
   ],
   "source": [
    "model = tf.keras.Sequential([\n",
    "  layers.Embedding(max_features + 1, embedding_dim),\n",
    "  layers.Dropout(0.2),\n",
    "  layers.GlobalAveragePooling1D(),\n",
    "  layers.Dropout(0.2),\n",
    "  layers.Dense(115)]) #number of classes\n",
    "\n",
    "model.summary()"
   ]
  },
  {
   "cell_type": "markdown",
   "metadata": {
    "id": "6PbKQ6mucuKL"
   },
   "source": [
    "The layers are stacked sequentially to build the classifier:\n",
    "\n",
    "1. The first layer is an `Embedding` layer. This layer takes the integer-encoded reviews and looks up an embedding vector for each word-index. These vectors are learned as the model trains. The vectors add a dimension to the output array. The resulting dimensions are: `(batch, sequence, embedding)`.  To learn more about embeddings, check out the [Word embeddings](https://www.tensorflow.org/text/guide/word_embeddings) tutorial.\n",
    "2. Next, a `GlobalAveragePooling1D` layer returns a fixed-length output vector for each example by averaging over the sequence dimension. This allows the model to handle input of variable length, in the simplest way possible.\n",
    "3. The last layer is densely connected with a single output node."
   ]
  },
  {
   "cell_type": "markdown",
   "metadata": {
    "id": "L4EqVWg4-llM"
   },
   "source": [
    "### Loss function and optimizer\n",
    "\n",
    "A model needs a loss function and an optimizer for training. Since this is a binary classification problem and the model outputs a probability (a single-unit layer with a sigmoid activation), you'll use `losses.BinaryCrossentropy` loss function.\n",
    "\n",
    "Now, configure the model to use an optimizer and a loss function:"
   ]
  },
  {
   "cell_type": "code",
   "execution_count": 58,
   "metadata": {
    "execution": {
     "iopub.execute_input": "2023-01-14T02:28:07.980702Z",
     "iopub.status.busy": "2023-01-14T02:28:07.980305Z",
     "iopub.status.idle": "2023-01-14T02:28:07.994007Z",
     "shell.execute_reply": "2023-01-14T02:28:07.993449Z"
    },
    "id": "Mr0GP-cQ-llN"
   },
   "outputs": [],
   "source": [
    "model.compile(loss=tf.keras.losses.SparseCategoricalCrossentropy(from_logits=True),\n",
    "              optimizer='adam',\n",
    "              metrics=['accuracy'])"
   ]
  },
  {
   "cell_type": "markdown",
   "metadata": {
    "id": "35jv_fzP-llU"
   },
   "source": [
    "### Train the model\n",
    "\n",
    "You will train the model by passing the `dataset` object to the fit method."
   ]
  },
  {
   "cell_type": "code",
   "execution_count": 59,
   "metadata": {
    "execution": {
     "iopub.execute_input": "2023-01-14T02:28:07.997110Z",
     "iopub.status.busy": "2023-01-14T02:28:07.996890Z",
     "iopub.status.idle": "2023-01-14T02:29:08.745685Z",
     "shell.execute_reply": "2023-01-14T02:29:08.744871Z"
    },
    "id": "tXSGrjWZ-llW"
   },
   "outputs": [
    {
     "name": "stdout",
     "output_type": "stream",
     "text": [
      "Epoch 1/10\n",
      "25/25 [==============================] - 1s 21ms/step - loss: 4.7353 - accuracy: 0.0667 - val_loss: 4.7297 - val_accuracy: 0.0309\n",
      "Epoch 2/10\n",
      "25/25 [==============================] - 0s 3ms/step - loss: 4.7113 - accuracy: 0.0808 - val_loss: 4.7112 - val_accuracy: 0.0670\n",
      "Epoch 3/10\n",
      "25/25 [==============================] - 0s 3ms/step - loss: 4.6816 - accuracy: 0.0872 - val_loss: 4.6865 - val_accuracy: 0.0773\n",
      "Epoch 4/10\n",
      "25/25 [==============================] - 0s 3ms/step - loss: 4.6412 - accuracy: 0.0821 - val_loss: 4.6536 - val_accuracy: 0.0722\n",
      "Epoch 5/10\n",
      "25/25 [==============================] - 0s 3ms/step - loss: 4.5892 - accuracy: 0.0756 - val_loss: 4.6126 - val_accuracy: 0.0722\n",
      "Epoch 6/10\n",
      "25/25 [==============================] - 0s 3ms/step - loss: 4.5272 - accuracy: 0.0756 - val_loss: 4.5662 - val_accuracy: 0.0722\n",
      "Epoch 7/10\n",
      "25/25 [==============================] - 0s 3ms/step - loss: 4.4567 - accuracy: 0.0731 - val_loss: 4.5182 - val_accuracy: 0.0722\n",
      "Epoch 8/10\n",
      "25/25 [==============================] - 0s 3ms/step - loss: 4.3778 - accuracy: 0.0808 - val_loss: 4.4733 - val_accuracy: 0.0722\n",
      "Epoch 9/10\n",
      "25/25 [==============================] - 0s 3ms/step - loss: 4.3113 - accuracy: 0.0846 - val_loss: 4.4364 - val_accuracy: 0.0722\n",
      "Epoch 10/10\n",
      "25/25 [==============================] - 0s 3ms/step - loss: 4.2524 - accuracy: 0.0808 - val_loss: 4.4099 - val_accuracy: 0.0722\n"
     ]
    }
   ],
   "source": [
    "epochs = 10\n",
    "history = model.fit(\n",
    "    train_ds,\n",
    "    validation_data=val_ds,\n",
    "    epochs=epochs)"
   ]
  },
  {
   "cell_type": "markdown",
   "metadata": {
    "id": "9EEGuDVuzb5r"
   },
   "source": [
    "### Evaluate the model\n",
    "\n",
    "Let's see how the model performs. Two values will be returned. Loss (a number which represents our error, lower values are better), and accuracy."
   ]
  },
  {
   "cell_type": "code",
   "execution_count": 60,
   "metadata": {
    "execution": {
     "iopub.execute_input": "2023-01-14T02:29:08.749611Z",
     "iopub.status.busy": "2023-01-14T02:29:08.749051Z",
     "iopub.status.idle": "2023-01-14T02:29:10.304995Z",
     "shell.execute_reply": "2023-01-14T02:29:10.304256Z"
    },
    "id": "zOMKywn4zReN"
   },
   "outputs": [
    {
     "name": "stdout",
     "output_type": "stream",
     "text": [
      "10/10 [==============================] - 0s 2ms/step - loss: 4.9942 - accuracy: 0.0032\n",
      "Loss:  4.994192123413086\n",
      "Accuracy:  0.0031847134232521057\n"
     ]
    }
   ],
   "source": [
    "loss, accuracy = model.evaluate(test_ds)\n",
    "\n",
    "print(\"Loss: \", loss)\n",
    "print(\"Accuracy: \", accuracy)"
   ]
  },
  {
   "cell_type": "markdown",
   "metadata": {
    "id": "z1iEXVTR0Z2t"
   },
   "source": [
    "This fairly naive approach achieves an accuracy of about 86%."
   ]
  },
  {
   "cell_type": "markdown",
   "metadata": {
    "id": "ldbQqCw2Xc1W"
   },
   "source": [
    "### Create a plot of accuracy and loss over time\n",
    "\n",
    "`model.fit()` returns a `History` object that contains a dictionary with everything that happened during training:"
   ]
  },
  {
   "cell_type": "code",
   "execution_count": 61,
   "metadata": {
    "execution": {
     "iopub.execute_input": "2023-01-14T02:29:10.308581Z",
     "iopub.status.busy": "2023-01-14T02:29:10.307984Z",
     "iopub.status.idle": "2023-01-14T02:29:10.312435Z",
     "shell.execute_reply": "2023-01-14T02:29:10.311750Z"
    },
    "id": "-YcvZsdvWfDf"
   },
   "outputs": [
    {
     "data": {
      "text/plain": "dict_keys(['loss', 'accuracy', 'val_loss', 'val_accuracy'])"
     },
     "execution_count": 61,
     "metadata": {},
     "output_type": "execute_result"
    }
   ],
   "source": [
    "history_dict = history.history\n",
    "history_dict.keys()"
   ]
  },
  {
   "cell_type": "markdown",
   "metadata": {
    "id": "1_CH32qJXruI"
   },
   "source": [
    "There are four entries: one for each monitored metric during training and validation. You can use these to plot the training and validation loss for comparison, as well as the training and validation accuracy:"
   ]
  },
  {
   "cell_type": "code",
   "execution_count": 62,
   "metadata": {
    "execution": {
     "iopub.execute_input": "2023-01-14T02:29:10.315699Z",
     "iopub.status.busy": "2023-01-14T02:29:10.315207Z",
     "iopub.status.idle": "2023-01-14T02:29:10.451693Z",
     "shell.execute_reply": "2023-01-14T02:29:10.451113Z"
    },
    "id": "2SEMeQ5YXs8z"
   },
   "outputs": [
    {
     "data": {
      "text/plain": "<Figure size 640x480 with 1 Axes>",
      "image/png": "[encoded data removed]"
     },
     "metadata": {},
     "output_type": "display_data"
    }
   ],
   "source": [
    "acc = history_dict['accuracy']\n",
    "val_acc = history_dict['val_accuracy']\n",
    "loss = history_dict['loss']\n",
    "val_loss = history_dict['val_loss']\n",
    "\n",
    "epochs = range(1, len(acc) + 1)\n",
    "\n",
    "# \"bo\" is for \"blue dot\"\n",
    "plt.plot(epochs, loss, 'bo', label='Training loss')\n",
    "# b is for \"solid blue line\"\n",
    "plt.plot(epochs, val_loss, 'b', label='Validation loss')\n",
    "plt.title('Training and validation loss')\n",
    "plt.xlabel('Epochs')\n",
    "plt.ylabel('Loss')\n",
    "plt.legend()\n",
    "\n",
    "plt.show()"
   ]
  },
  {
   "cell_type": "code",
   "execution_count": 63,
   "metadata": {
    "execution": {
     "iopub.execute_input": "2023-01-14T02:29:10.454651Z",
     "iopub.status.busy": "2023-01-14T02:29:10.454401Z",
     "iopub.status.idle": "2023-01-14T02:29:10.578917Z",
     "shell.execute_reply": "2023-01-14T02:29:10.578347Z"
    },
    "id": "Z3PJemLPXwz_"
   },
   "outputs": [
    {
     "data": {
      "text/plain": "<Figure size 640x480 with 1 Axes>",
      "image/png": "[encoded data removed]"
     },
     "metadata": {},
     "output_type": "display_data"
    }
   ],
   "source": [
    "plt.plot(epochs, acc, 'bo', label='Training acc')\n",
    "plt.plot(epochs, val_acc, 'b', label='Validation acc')\n",
    "plt.title('Training and validation accuracy')\n",
    "plt.xlabel('Epochs')\n",
    "plt.ylabel('Accuracy')\n",
    "plt.legend(loc='lower right')\n",
    "\n",
    "plt.show()"
   ]
  },
  {
   "cell_type": "markdown",
   "metadata": {
    "id": "hFFyCuJoXy7r"
   },
   "source": [
    "In this plot, the dots represent the training loss and accuracy, and the solid lines are the validation loss and accuracy.\n",
    "\n",
    "Notice the training loss *decreases* with each epoch and the training accuracy *increases* with each epoch. This is expected when using a gradient descent optimization—it should minimize the desired quantity on every iteration.\n",
    "\n",
    "This isn't the case for the validation loss and accuracy—they seem to peak before the training accuracy. This is an example of overfitting: the model performs better on the training data than it does on data it has never seen before. After this point, the model over-optimizes and learns representations *specific* to the training data that do not *generalize* to test data.\n",
    "\n",
    "For this particular case, you could prevent overfitting by simply stopping the training when the validation accuracy is no longer increasing. One way to do so is to use the `tf.keras.callbacks.EarlyStopping` callback."
   ]
  },
  {
   "cell_type": "markdown",
   "metadata": {
    "id": "-to23J3Vy5d3"
   },
   "source": [
    "## Export the model\n",
    "\n",
    "In the code above, you applied the `TextVectorization` layer to the dataset before feeding text to the model. If you want to make your model capable of processing raw strings (for example, to simplify deploying it), you can include the `TextVectorization` layer inside your model. To do so, you can create a new model using the weights you just trained."
   ]
  },
  {
   "cell_type": "code",
   "execution_count": 65,
   "metadata": {
    "execution": {
     "iopub.execute_input": "2023-01-14T02:29:10.582364Z",
     "iopub.status.busy": "2023-01-14T02:29:10.582116Z",
     "iopub.status.idle": "2023-01-14T02:29:13.437348Z",
     "shell.execute_reply": "2023-01-14T02:29:13.436579Z"
    },
    "id": "FWXsMvryuZuq"
   },
   "outputs": [
    {
     "name": "stdout",
     "output_type": "stream",
     "text": [
      "10/10 [==============================] - 0s 3ms/step - loss: 4.9942 - accuracy: 0.0032\n",
      "0.0031847134232521057\n"
     ]
    },
    {
     "name": "stderr",
     "output_type": "stream",
     "text": [
      "/Users/karol.sendyka/private-workspace/pi-eye/venv2/lib/python3.9/site-packages/tensorflow/python/util/dispatch.py:1082: UserWarning: \"`sparse_categorical_crossentropy` received `from_logits=True`, but the `output` argument was produced by a sigmoid or softmax activation and thus does not represent logits. Was this intended?\"\n",
      "  return dispatch_target(*args, **kwargs)\n"
     ]
    }
   ],
   "source": [
    "export_model = tf.keras.Sequential([\n",
    "  vectorize_layer,\n",
    "  model,\n",
    "  layers.Activation('sigmoid')\n",
    "])\n",
    "\n",
    "export_model.compile(\n",
    "    loss=tf.keras.losses.SparseCategoricalCrossentropy(from_logits=True), optimizer=\"adam\", metrics=['accuracy']\n",
    ")\n",
    "\n",
    "# Test it with `raw_test_ds`, which yields raw strings\n",
    "loss, accuracy = export_model.evaluate(raw_test_ds)\n",
    "print(accuracy)"
   ]
  },
  {
   "cell_type": "markdown",
   "metadata": {
    "id": "TwQgoN88LoEF"
   },
   "source": [
    "### Inference on new data\n",
    "\n",
    "To get predictions for new examples, you can simply call `model.predict()`."
   ]
  },
  {
   "cell_type": "code",
   "execution_count": 67,
   "outputs": [
    {
     "name": "stdout",
     "output_type": "stream",
     "text": [
      "1/1 [==============================] - 0s 35ms/step\n"
     ]
    },
    {
     "data": {
      "text/plain": "array([[0.28964627, 0.14412959, 0.40725368, 0.19374676, 0.28418574,\n        0.47990865, 0.39974874, 0.32539085, 0.5486726 , 0.24091192,\n        0.34998775, 0.18956688, 0.4853809 , 0.33745542, 0.40360403,\n        0.53388923, 0.25788584, 0.18675198, 0.26959965, 0.32851684,\n        0.45487216, 0.35887203, 0.32757357, 0.4349659 , 0.28061163,\n        0.3290115 , 0.5359107 , 0.8471478 , 0.6666062 , 0.33840984,\n        0.50170285, 0.56754863, 0.3035394 , 0.2915542 , 0.35046256,\n        0.47087237, 0.36903235, 0.45455107, 0.24153054, 0.38792932,\n        0.21412916, 0.2200925 , 0.23223503, 0.1983756 , 0.4644676 ,\n        0.534983  , 0.559944  , 0.64819914, 0.5895977 , 0.25119704,\n        0.37763226, 0.25126627, 0.27318507, 0.47177094, 0.6724272 ,\n        0.5569939 , 0.40481922, 0.3374064 , 0.45149592, 0.39629877,\n        0.51307863, 0.35230583, 0.42965946, 0.31192517, 0.34197977,\n        0.40936255, 0.2640426 , 0.4143023 , 0.48073044, 0.3160173 ,\n        0.62736255, 0.36276206, 0.6739206 , 0.16285159, 0.15888342,\n        0.63677543, 0.40411544, 0.83036625, 0.67420495, 0.32673305,\n        0.23332196, 0.53859156, 0.2720946 , 0.26552466, 0.25473046,\n        0.6964176 , 0.24298467, 0.7191697 , 0.28255206, 0.32007006,\n        0.37124634, 0.44085678, 0.5305621 , 0.29617697, 0.39542457,\n        0.2533867 , 0.5334206 , 0.6836455 , 0.24403854, 0.19170786,\n        0.25631887, 0.2630651 , 0.20331328, 0.3667204 , 0.37174428,\n        0.18537624, 0.19405015, 0.25691164, 0.16829076, 0.7624826 ,\n        0.6888246 , 0.41255346, 0.5640318 , 0.6327093 , 0.4125773 ]],\n      dtype=float32)"
     },
     "execution_count": 67,
     "metadata": {},
     "output_type": "execute_result"
    }
   ],
   "source": [
    "examples = [\n",
    "  'Multiple users are unable to login via SSO on their mobile device and in some cases via their computers as well.',\n",
    "]\n",
    "\n",
    "export_model.predict(examples)"
   ],
   "metadata": {
    "collapsed": false
   }
  },
  {
   "cell_type": "code",
   "execution_count": 69,
   "outputs": [
    {
     "data": {
      "text/plain": "'Tasks'"
     },
     "execution_count": 69,
     "metadata": {},
     "output_type": "execute_result"
    }
   ],
   "source": [
    "raw_train_ds.class_names[108]"
   ],
   "metadata": {
    "collapsed": false
   }
  },
  {
   "cell_type": "markdown",
   "metadata": {
    "id": "MaxlpFWpzR6c"
   },
   "source": [
    "Including the text preprocessing logic inside your model enables you to export a model for production that simplifies deployment, and reduces the potential for [train/test skew](https://developers.google.com/machine-learning/guides/rules-of-ml#training-serving_skew).\n",
    "\n",
    "There is a performance difference to keep in mind when choosing where to apply your TextVectorization layer. Using it outside of your model enables you to do asynchronous CPU processing and buffering of your data when training on GPU. So, if you're training your model on the GPU, you probably want to go with this option to get the best performance while developing your model, then switch to including the TextVectorization layer inside your model when you're ready to prepare for deployment.\n",
    "\n",
    "Visit this [tutorial](https://www.tensorflow.org/tutorials/keras/save_and_load) to learn more about saving models."
   ]
  },
  {
   "cell_type": "markdown",
   "metadata": {
    "id": "eSSuci_6nCEG"
   },
   "source": [
    "## Exercise: multi-class classification on Stack Overflow questions\n",
    "\n",
    "This tutorial showed how to train a binary classifier from scratch on the IMDB dataset. As an exercise, you can modify this notebook to train a multi-class classifier to predict the tag of a programming question on [Stack Overflow](http://stackoverflow.com/).\n",
    "\n",
    "A [dataset](https://storage.googleapis.com/download.tensorflow.org/data/stack_overflow_16k.tar.gz) has been prepared for you to use containing the body of several thousand programming questions (for example, \"How can I sort a dictionary by value in Python?\") posted to Stack Overflow. Each of these is labeled with exactly one tag (either Python, CSharp, JavaScript, or Java). Your task is to take a question as input, and predict the appropriate tag, in this case, Python.\n",
    "\n",
    "The dataset you will work with contains several thousand questions extracted from the much larger public Stack Overflow dataset on [BigQuery](https://console.cloud.google.com/marketplace/details/stack-exchange/stack-overflow), which contains more than 17 million posts.\n",
    "\n",
    "After downloading the dataset, you will find it has a similar directory structure to the IMDB dataset you worked with previously:\n",
    "\n",
    "```\n",
    "train/\n",
    "...python/\n",
    "......0.txt\n",
    "......1.txt\n",
    "...javascript/\n",
    "......0.txt\n",
    "......1.txt\n",
    "...csharp/\n",
    "......0.txt\n",
    "......1.txt\n",
    "...java/\n",
    "......0.txt\n",
    "......1.txt\n",
    "```\n",
    "\n",
    "Note: To increase the difficulty of the classification problem, occurrences of the words Python, CSharp, JavaScript, or Java in the programming questions have been replaced with the word *blank* (as many questions contain the language they're about).\n",
    "\n",
    "To complete this exercise, you should modify this notebook to work with the Stack Overflow dataset by making the following modifications:\n",
    "\n",
    "1. At the top of your notebook, update the code that downloads the IMDB dataset with code to download the [Stack Overflow dataset](https://storage.googleapis.com/download.tensorflow.org/data/stack_overflow_16k.tar.gz) that has already been prepared. As the Stack Overflow dataset has a similar directory structure, you will not need to make many modifications.\n",
    "\n",
    "1. Modify the last layer of your model to `Dense(4)`, as there are now four output classes.\n",
    "\n",
    "1. When compiling the model, change the loss to `tf.keras.losses.SparseCategoricalCrossentropy(from_logits=True)`. This is the correct loss function to use for a multi-class classification problem, when the labels for each class are integers (in this case, they can be 0, *1*, *2*, or *3*). In addition, change the metrics to `metrics=['accuracy']`, since this is a multi-class classification problem (`tf.metrics.BinaryAccuracy` is only used for binary classifiers).\n",
    "\n",
    "1. When plotting accuracy over time, change `binary_accuracy` and `val_binary_accuracy` to `accuracy` and `val_accuracy`, respectively.\n",
    "\n",
    "1. Once these changes are complete, you will be able to train a multi-class classifier."
   ]
  },
  {
   "cell_type": "markdown",
   "metadata": {
    "id": "F0T5SIwSm7uc"
   },
   "source": [
    "## Learning more\n",
    "\n",
    "This tutorial introduced text classification from scratch. To learn more about the text classification workflow in general, check out the [Text classification guide](https://developers.google.com/machine-learning/guides/text-classification/) from Google Developers.\n"
   ]
  }
 ],
 "metadata": {
  "accelerator": "GPU",
  "colab": {
   "collapsed_sections": [],
   "name": "text_classification.ipynb",
   "toc_visible": true
  },
  "kernelspec": {
   "display_name": "Python 3",
   "name": "python3"
  },
  "language_info": {
   "codemirror_mode": {
    "name": "ipython",
    "version": 3
   },
   "file_extension": ".py",
   "mimetype": "text/x-python",
   "name": "python",
   "nbconvert_exporter": "python",
   "pygments_lexer": "ipython3",
   "version": "3.9.16"
  }
 },
 "nbformat": 4,
 "nbformat_minor": 0
}
